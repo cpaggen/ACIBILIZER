{
 "cells": [
  {
   "cell_type": "code",
   "execution_count": null,
   "metadata": {},
   "outputs": [],
   "source": [
    "import os\n",
    "import json\n",
    "from mappings import classToAnsible # need to get the mapping to ansible from json\n",
    "import yaml\n",
    "import pprint\n",
    "from isConfigurableMap import isConfigurableMap # need to get the \n",
    "from argument_mapping import argumentMap\n",
    "from collections import Counter"
   ]
  },
  {
   "cell_type": "code",
   "execution_count": null,
   "metadata": {},
   "outputs": [],
   "source": [
    "Counter(classToAnsible.keys())"
   ]
  },
  {
   "cell_type": "code",
   "execution_count": null,
   "metadata": {},
   "outputs": [],
   "source": [
    "# load the json file\n",
    "\n",
    "with open('tn-nils-2.json', 'r') as file:\n",
    "    data = json.load(file)"
   ]
  },
  {
   "cell_type": "code",
   "execution_count": null,
   "metadata": {},
   "outputs": [],
   "source": [
    "# function to map to ansible according to mappings.py\n",
    "\n",
    "def map_json_to_ansible(json_data, key, map):\n",
    "    try:\n",
    "        new_key = map[key]\n",
    "        json_data[new_key] = json_data.pop(key) # replace with ansible term\n",
    "    except(KeyError): # no match found, skip\n",
    "        pass"
   ]
  },
  {
   "cell_type": "code",
   "execution_count": null,
   "metadata": {},
   "outputs": [],
   "source": [
    "def remove_isNotConfigurable(key, delete_key_list):\n",
    "    try:\n",
    "        if isConfigurableMap[key] == False:\n",
    "            delete_key_list.append(key)\n",
    "        else:\n",
    "            pass\n",
    "    except(KeyError):\n",
    "        pass"
   ]
  },
  {
   "cell_type": "code",
   "execution_count": null,
   "metadata": {},
   "outputs": [],
   "source": [
    "# this is mostly chatGPT, will need to rewrite it and figure out how to do this without it\n",
    "\n",
    "names = []\n",
    "\n",
    "def prune_dict(data):\n",
    "    def contains_name_key(d):\n",
    "        # Check if 'name' key is in the current dictionary\n",
    "        if 'name' in d:\n",
    "            return True\n",
    "        # Check nested dictionaries\n",
    "        for key, value in d.items():\n",
    "            if isinstance(value, dict) and contains_name_key(value):\n",
    "                return True\n",
    "            elif isinstance(value, list):\n",
    "                for item in value:\n",
    "                    if isinstance(item, dict) and contains_name_key(item):\n",
    "                        return True\n",
    "        return False\n",
    "\n",
    "    def prune(d):\n",
    "        keys_to_delete = []\n",
    "        for key, value in d.items():\n",
    "            if isinstance(value, dict):\n",
    "                if not contains_name_key(value):\n",
    "                    keys_to_delete.append(key)\n",
    "                else:\n",
    "                    prune(value)\n",
    "            elif isinstance(value, list):\n",
    "                for item in value:\n",
    "                    if isinstance(item, dict):\n",
    "                        prune(item)\n",
    "\n",
    "        for key in keys_to_delete:\n",
    "            del d[key]\n",
    "\n",
    "    if isinstance(data, dict):\n",
    "        prune(data)\n",
    "    elif isinstance(data, list):\n",
    "        for item in data:\n",
    "            if isinstance(item, dict):\n",
    "                prune(item)"
   ]
  },
  {
   "cell_type": "code",
   "execution_count": null,
   "metadata": {},
   "outputs": [],
   "source": [
    "def reconstruct_yml(data, out_dir=None):\n",
    "    save_path = \"ansible_reconstructed.yml\" if out_dir is None else os.path.join(out_dir, \"ansible_reconstructed.yml\")\n",
    "\n",
    "    # here define default arguments (to delete)\n",
    "    default_args = ['', \"\"]\n",
    "\n",
    "    # process data recursively\n",
    "    def process_data(data):\n",
    "\n",
    "        if isinstance(data, dict):\n",
    "            keys_to_delete = [] # need this otherwise we get runtime error (dictionary changed size etc)\n",
    "\n",
    "            for key in data.keys():\n",
    "\n",
    "                # if value is in default arguments, we can delete it\n",
    "                if data[key] in default_args:\n",
    "                    keys_to_delete.append(key)\n",
    "\n",
    "                else:\n",
    "                    # nested dictionaries\n",
    "                    if isinstance(data[key], (dict, list)):\n",
    "                        try:\n",
    "                            process_data(data[key])\n",
    "                        except (KeyError, TypeError) as e:\n",
    "                            print(f\"Error processing key {key}: {e}\")\n",
    "\n",
    "                # uncomment this if we want to delete all non-configurable modules\n",
    "                remove_isNotConfigurable(key, keys_to_delete)\n",
    "\n",
    "            # keys to delete\n",
    "            for key in keys_to_delete:\n",
    "                del data[key]\n",
    "\n",
    "            # use the mapping function\n",
    "            for key in list(data.keys()):\n",
    "                map_json_to_ansible(data, key, classToAnsible)\n",
    "\n",
    "        elif isinstance(data, list):\n",
    "            for item in data:\n",
    "                if isinstance(item, (dict, list)):\n",
    "                    process_data(item)\n",
    "\n",
    "    # Process the initial data\n",
    "    process_data(data)\n",
    "    \n",
    "    # prune_dict(data)\n",
    "\n",
    "    # Save the resulting dictionary to a YAML file\n",
    "    with open(save_path, 'w') as file:\n",
    "        yaml.dump(data, file, default_flow_style=False)\n",
    "\n",
    "    print(f\"YAML file has been saved to {save_path}\")"
   ]
  },
  {
   "cell_type": "code",
   "execution_count": null,
   "metadata": {},
   "outputs": [],
   "source": [
    "reconstructed = reconstruct_yml(data)"
   ]
  },
  {
   "cell_type": "code",
   "execution_count": null,
   "metadata": {},
   "outputs": [],
   "source": [
    "def map_isConfigurable_to_ansible(data):\n",
    "    for key, value in data.items():\n",
    "        map_json_to_ansible(data, key)"
   ]
  },
  {
   "cell_type": "code",
   "execution_count": null,
   "metadata": {},
   "outputs": [],
   "source": [
    "with open('aci-meta-5.3-2c.json', 'r') as file:\n",
    "    meta = json.load(file)"
   ]
  },
  {
   "cell_type": "code",
   "execution_count": null,
   "metadata": {},
   "outputs": [],
   "source": [
    "config_map = {} # save configurable map\n",
    "\n",
    "def configurable_map(data):\n",
    "    global config_map\n",
    "    \n",
    "    def process_data(data, parent_key = None):\n",
    "        if isinstance(data, dict):\n",
    "            for key, value in data.items():\n",
    "                if key == \"isConfigurable\":\n",
    "\n",
    "                    # save to config map isConfigurable\n",
    "                    config_map[parent_key] = value\n",
    "\n",
    "                # map_json_to_ansible(data, key)\n",
    "\n",
    "                # pass in key to parent_key to \"save\" it\n",
    "                if isinstance(value, dict):\n",
    "                    process_data(value, parent_key = key)\n",
    "\n",
    "                elif isinstance(value, list):\n",
    "                    for item in value:\n",
    "                        if isinstance(item, dict):\n",
    "                            process_data(item, parent_key = key)\n",
    "\n",
    "        if isinstance(data, list):\n",
    "            for item in data: # iterate over all arrays in the dictionary\n",
    "                if isinstance(value, dict):\n",
    "                    process_data(value, parent_key = key)\n",
    "                    \n",
    "    process_data(data)\n",
    "\n",
    "    # map to ansible\n",
    "    map_isConfigurable_to_ansible(data)\n",
    "    \n",
    "    file_name = 'isConfigurableMap.py'\n",
    "\n",
    "    # Write the dictionary to the file\n",
    "    with open(file_name, 'w') as file:\n",
    "        file.write(\"isConfigurableMap = \")\n",
    "        pprint.pprint(config_map, stream=file)\n",
    "\n",
    "    print(f\"Dictionary has been saved to {file_name}\")"
   ]
  },
  {
   "cell_type": "code",
   "execution_count": null,
   "metadata": {},
   "outputs": [],
   "source": [
    "configurable_map(meta)"
   ]
  },
  {
   "cell_type": "code",
   "execution_count": null,
   "metadata": {},
   "outputs": [],
   "source": [
    "# Save the resulting dictionary to a YAML file\n",
    "save_path = \"ansible_reconstructed.yml\"\n",
    "\n",
    "with open(save_path, 'w') as file:\n",
    "    yaml.dump(final, file, default_flow_style=False)\n",
    "\n",
    "print(f\"YAML file has been saved to {save_path}\")"
   ]
  },
  {
   "cell_type": "code",
   "execution_count": null,
   "metadata": {},
   "outputs": [],
   "source": []
  },
  {
   "cell_type": "code",
   "execution_count": null,
   "metadata": {},
   "outputs": [],
   "source": [
    "clean_playbook = {}\n",
    "\n",
    "def reorder_playbook(data):\n",
    "    if isinstance(data, dict):\n",
    "        for key, value in data.items():\n",
    "            "
   ]
  }
 ],
 "metadata": {
  "kernelspec": {
   "display_name": "nlp",
   "language": "python",
   "name": "python3"
  },
  "language_info": {
   "codemirror_mode": {
    "name": "ipython",
    "version": 3
   },
   "file_extension": ".py",
   "mimetype": "text/x-python",
   "name": "python",
   "nbconvert_exporter": "python",
   "pygments_lexer": "ipython3",
   "version": "3.9.18"
  }
 },
 "nbformat": 4,
 "nbformat_minor": 2
}
